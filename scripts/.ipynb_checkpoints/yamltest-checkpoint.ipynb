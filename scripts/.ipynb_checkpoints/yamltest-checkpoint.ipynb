{
 "cells": [
  {
   "cell_type": "code",
   "execution_count": 1,
   "metadata": {},
   "outputs": [],
   "source": [
    "import yaml\n",
    "import json\n",
    "scenario = \"C:\\\\Users\\\\isanchezjimene\\\\Documents\\\\TraderesCode\\\\toolbox-amiris-emlab\\\\amiris\\\\input\\\\Austria2019\\\\scenario.yaml\"\n",
    "scenariojson = \"scenario.json\"\n",
    "rows_to_write = []\n",
    "import csv"
   ]
  },
  {
   "cell_type": "code",
   "execution_count": 2,
   "metadata": {},
   "outputs": [
    {
     "name": "stdout",
     "output_type": "stream",
     "text": [
      "<class 'dict'>\n"
     ]
    }
   ],
   "source": [
    "with open(scenario, \"r\") as stream:\n",
    "    try:\n",
    "        # yaml=YAML(typ='safe')   # default, if not specfied, is 'rt' (round-trip)\n",
    "        data = yaml.load(stream, Loader=yaml.Loader)\n",
    "        print(type(data))\n",
    "    except:\n",
    "        print(\"error\")"
   ]
  },
  {
   "cell_type": "code",
   "execution_count": 3,
   "metadata": {},
   "outputs": [
    {
     "name": "stdout",
     "output_type": "stream",
     "text": [
      "{'Variables': [60], 'GeneralProperties': {'RunId': 1, 'Simulation': {'StartTime': '2018-12-31_23:58:00', 'StopTime': '2019-12-31_23:58:00', 'RandomSeed': 1}, 'Output': {'Interval': 100, 'Process': 0}}, 'Agents': [{'Type': 'EnergyExchange', 'Id': 1, 'Attributes': {'DistributionMethod': 'SAME_SHARES', 'GateClosureInfoOffsetInSeconds': 11}}, {'Type': 'SystemOperatorTrader', 'Id': 2}, {'Type': 'CarbonMarket', 'Id': 3, 'Attributes': {'OperationMode': 'FIXED', 'Co2Prices': './timeseries/co2_price.csv'}}, {'Type': 'FuelsMarket', 'Id': 4, 'Attributes': {'FuelPrices': [{'FuelType': 'OIL', 'Price': 65.0, 'ConversionFactor': 0.6141751628}, {'FuelType': 'HARD_COAL', 'Price': 5.0, 'ConversionFactor': 1.0}, {'FuelType': 'NATURAL_GAS', 'Price': './timeseries/gas_price.csv', 'ConversionFactor': 1.0}]}}, {'Type': 'DemandTrader', 'Id': 100, 'Attributes': {'Loads': [{'ValueOfLostLoad': 3000.0, 'DemandSeries': './timeseries/demand_with_ImportsExports.csv'}]}}, {'Type': 'MeritOrderForecaster', 'Id': 6, 'Attributes': {'DistributionMethod': 'SAME_SHARES', 'ForecastPeriodInHours': 168, 'ForecastRequestOffsetInSeconds': 27}}, {'Type': 'StorageTrader', 'Id': 7, 'Attributes': {'ForecastRequestOffsetInSeconds': 22, 'Device': {'EnergyToPowerRatio': 19.5, 'SelfDischargeRatePerHour': 0.0, 'ChargingEfficiency': 0.9, 'DischargingEfficiency': 0.9, 'InitialEnergyLevelInMWH': 15000, 'PowerInMW': 3400.0}, 'Strategy': {'StrategistType': 'SINGLE_AGENT_MIN_SYSTEM_COST', 'ForecastPeriodInHours': 168, 'ScheduleDurationInHours': 24, 'SingleAgent': {'PurchaseLeviesAndTaxesInEURperMWH': 0.0, 'ModelledChargingSteps': 50}}}}, {'Type': 'NoSupportTrader', 'Id': 12, 'Attributes': {'ShareOfRevenues': 0.0}}, {'Type': 'SystemOperatorTrader', 'Id': 13}, {'Type': 'SupportPolicy', 'Id': 90, 'Attributes': {'SetSupportData': [{'Set': 'PVRooftop', 'FIT': {'TsFit': 76.7, 'SuspensionVolumeShare': 0.9}}, {'Set': 'WindOn', 'FIT': {'TsFit': 81.2, 'SuspensionVolumeShare': 0.9}}]}}, {'Type': 'ConventionalPlantOperator', 'Id': 501}, {'Type': 'PredefinedPlantBuilder', 'Id': 2001, 'Attributes': {'PortfolioBuildingOffsetInSeconds': 60, 'Prototype': {'FuelType': 'HARD_COAL', 'SpecificCo2EmissionsInTperMWH': 0.354, 'PlannedAvailability': 1.0, 'UnplannedAvailabilityFactor': 0.98, 'OpexVarInEURperMWH': 2.0, 'CyclingCostInEURperMW': 0.0}, 'Efficiency': {'Minimal': 0.4, 'Maximal': 0.4}, 'BlockSizeInMW': 50.0, 'InstalledPowerInMW': 264.0}}, {'Type': 'ConventionalTrader', 'Id': 1001, 'Attributes': {'minMarkup': -15.0, 'maxMarkup': 0.0}}, {'Type': 'ConventionalPlantOperator', 'Id': 503}, {'Type': 'PredefinedPlantBuilder', 'Id': 2003, 'Attributes': {'PortfolioBuildingOffsetInSeconds': 60, 'Prototype': {'FuelType': 'NATURAL_GAS', 'SpecificCo2EmissionsInTperMWH': 0.201, 'PlannedAvailability': 1.0, 'UnplannedAvailabilityFactor': 0.97, 'OpexVarInEURperMWH': 1.2, 'CyclingCostInEURperMW': 0}, 'Efficiency': {'Minimal': 0.4, 'Maximal': 0.6}, 'BlockSizeInMW': 200.0, 'InstalledPowerInMW': 3260.0}}, {'Type': 'ConventionalTrader', 'Id': 1003, 'Attributes': {'minMarkup': -5.0, 'maxMarkup': 15.0}}, {'Type': 'ConventionalPlantOperator', 'Id': 502}, {'Type': 'PredefinedPlantBuilder', 'Id': 2002, 'Attributes': {'PortfolioBuildingOffsetInSeconds': 60, 'Prototype': {'FuelType': 'NATURAL_GAS', 'SpecificCo2EmissionsInTperMWH': 0.201, 'PlannedAvailability': 1.0, 'UnplannedAvailabilityFactor': 0.97, 'OpexVarInEURperMWH': 1.2, 'CyclingCostInEURperMW': 0}, 'Efficiency': {'Minimal': 0.4, 'Maximal': 0.6}, 'BlockSizeInMW': 300.0, 'InstalledPowerInMW': 3260.0}}, {'Type': 'ConventionalTrader', 'Id': 1002, 'Attributes': {'minMarkup': -5.0, 'maxMarkup': 15.0}}, {'Type': 'ConventionalPlantOperator', 'Id': 504}, {'Type': 'PredefinedPlantBuilder', 'Id': 2004, 'Attributes': {'PortfolioBuildingOffsetInSeconds': 60, 'Prototype': {'FuelType': 'NATURAL_GAS', 'SpecificCo2EmissionsInTperMWH': 0.201, 'PlannedAvailability': 1.0, 'UnplannedAvailabilityFactor': 0.97, 'OpexVarInEURperMWH': 1.2, 'CyclingCostInEURperMW': 0.0}, 'Efficiency': {'Minimal': 0.3, 'Maximal': 0.4}, 'BlockSizeInMW': 100.0, 'InstalledPowerInMW': 1208}}, {'Type': 'ConventionalTrader', 'Id': 1004, 'Attributes': {'minMarkup': 0.0, 'maxMarkup': 120.0}}, {'Type': 'ConventionalPlantOperator', 'Id': 505}, {'Type': 'PredefinedPlantBuilder', 'Id': 2005, 'Attributes': {'PortfolioBuildingOffsetInSeconds': 60, 'Prototype': {'FuelType': 'OIL', 'SpecificCo2EmissionsInTperMWH': 0.264, 'PlannedAvailability': 1.0, 'UnplannedAvailabilityFactor': 0.93, 'OpexVarInEURperMWH': 1.2, 'CyclingCostInEURperMW': 0.0}, 'Efficiency': {'Minimal': 0.35, 'Maximal': 0.35}, 'BlockSizeInMW': 100.0, 'InstalledPowerInMW': 178}}, {'Type': 'ConventionalTrader', 'Id': 1005, 'Attributes': {'minMarkup': 0.0, 'maxMarkup': 120.0}}, {'Type': 'VariableRenewableOperator', 'Id': 10, 'Attributes': {'Set': 'PVRooftop', 'EnergyCarrier': 'PV', 'SupportInstrument': 'FIT', 'InstalledPowerInMW': 1193, 'OpexVarInEURperMWH': 0.0, 'YieldProfile': './timeseries/solar_profile.csv'}}, {'Type': 'VariableRenewableOperator', 'Id': 20, 'Attributes': {'Set': 'WindOn', 'SupportInstrument': 'FIT', 'EnergyCarrier': 'WindOn', 'InstalledPowerInMW': 3035, 'OpexVarInEURperMWH': 0.0, 'YieldProfile': './timeseries/wind_profile.csv'}}, {'Type': 'VariableRenewableOperator', 'Id': 50, 'Attributes': {'EnergyCarrier': 'RunOfRiver', 'InstalledPowerInMW': 7998, 'OpexVarInEURperMWH': 0.0, 'YieldProfile': './timeseries/runofriver_profile.csv'}}, {'Type': 'VariableRenewableOperator', 'Id': 51, 'Attributes': {'EnergyCarrier': 'RunOfRiver', 'InstalledPowerInMW': 2000, 'OpexVarInEURperMWH': 0.0, 'YieldProfile': './timeseries/hydroreservoir_combined_profile.csv'}}, {'Type': 'VariableRenewableOperator', 'Id': 52, 'Attributes': {'EnergyCarrier': 'Other', 'InstalledPowerInMW': 500, 'OpexVarInEURperMWH': 0.0, 'YieldProfile': './timeseries/biomass_profile.csv'}}, {'Type': 'VariableRenewableOperator', 'Id': 53, 'Attributes': {'EnergyCarrier': 'Other', 'InstalledPowerInMW': 122, 'OpexVarInEURperMWH': 1.2, 'YieldProfile': 1}}, {'Type': 'VariableRenewableOperator', 'Id': 55, 'Attributes': {'EnergyCarrier': 'PV', 'InstalledPowerInMW': 100, 'OpexVarInEURperMWH': 0.0, 'YieldProfile': './timeseries/solar_profile.csv'}}]}\n"
     ]
    }
   ],
   "source": [
    "print(data)"
   ]
  },
  {
   "cell_type": "code",
   "execution_count": 75,
   "metadata": {},
   "outputs": [],
   "source": [
    "rows_to_write = []"
   ]
  },
  {
   "cell_type": "code",
   "execution_count": 72,
   "metadata": {},
   "outputs": [
    {
     "ename": "NameError",
     "evalue": "name 'd' is not defined",
     "output_type": "error",
     "traceback": [
      "\u001b[1;31m---------------------------------------------------------------------------\u001b[0m",
      "\u001b[1;31mNameError\u001b[0m                                 Traceback (most recent call last)",
      "\u001b[1;32mC:\\Users\\ISANCH~1\\AppData\\Local\\Temp/ipykernel_1492/1408365621.py\u001b[0m in \u001b[0;36m<module>\u001b[1;34m\u001b[0m\n\u001b[0;32m      1\u001b[0m \u001b[1;32mfor\u001b[0m \u001b[0magent\u001b[0m \u001b[1;32min\u001b[0m \u001b[0mdata\u001b[0m\u001b[1;33m[\u001b[0m\u001b[1;34m'Agents'\u001b[0m\u001b[1;33m]\u001b[0m\u001b[1;33m:\u001b[0m\u001b[1;33m\u001b[0m\u001b[1;33m\u001b[0m\u001b[0m\n\u001b[0;32m      2\u001b[0m     \u001b[1;32mif\u001b[0m \u001b[1;34m'Attributes'\u001b[0m \u001b[1;32min\u001b[0m \u001b[0magent\u001b[0m\u001b[1;33m:\u001b[0m\u001b[1;33m\u001b[0m\u001b[1;33m\u001b[0m\u001b[0m\n\u001b[1;32m----> 3\u001b[1;33m         \u001b[1;33m[\u001b[0m\u001b[0mk\u001b[0m \u001b[1;32mfor\u001b[0m \u001b[0mk\u001b[0m\u001b[1;33m,\u001b[0m \u001b[0mv\u001b[0m \u001b[1;32min\u001b[0m \u001b[0md\u001b[0m\u001b[1;33m.\u001b[0m\u001b[0mitems\u001b[0m\u001b[1;33m(\u001b[0m\u001b[1;33m)\u001b[0m \u001b[1;32mif\u001b[0m \u001b[0mv\u001b[0m \u001b[1;33m==\u001b[0m \u001b[1;34m'aaa'\u001b[0m\u001b[1;33m]\u001b[0m\u001b[1;33m\u001b[0m\u001b[1;33m\u001b[0m\u001b[0m\n\u001b[0m\u001b[0;32m      4\u001b[0m         \u001b[1;32mif\u001b[0m \u001b[1;34m\"PredefinedPlantBuilder\"\u001b[0m \u001b[1;32min\u001b[0m \u001b[0magent\u001b[0m\u001b[1;33m[\u001b[0m\u001b[1;34m'Type'\u001b[0m\u001b[1;33m]\u001b[0m\u001b[1;33m:\u001b[0m\u001b[1;33m\u001b[0m\u001b[1;33m\u001b[0m\u001b[0m\n\u001b[0;32m      5\u001b[0m             \u001b[0mprint\u001b[0m\u001b[1;33m(\u001b[0m\u001b[0magent\u001b[0m\u001b[1;33m[\u001b[0m\u001b[1;34m'Id'\u001b[0m\u001b[1;33m]\u001b[0m\u001b[1;33m)\u001b[0m\u001b[1;33m\u001b[0m\u001b[1;33m\u001b[0m\u001b[0m\n",
      "\u001b[1;31mNameError\u001b[0m: name 'd' is not defined"
     ]
    }
   ],
   "source": [
    "for agent in data['Agents']:\n",
    "    if 'Attributes' in agent:\n",
    "        if \"PredefinedPlantBuilder\" in agent['Type']:\n",
    "            print(agent['Id'])\n",
    "            rows_to_write.append[\"Id\", agent['Id']]\n",
    "            for attribute in agent['Attributes']:\n",
    "              #  rows_to_write.append[attribute, agent['Attributes'][attribute]]\n",
    "                if 'Prototype' in attribute:\n",
    "                    for i in agent['Attributes']['Prototype']:\n",
    "                        value = agent['Attributes']['Prototype'][i]\n",
    "                        print(agent['Attributes']['Prototype'][i])\n",
    "                        rows_to_write.append([attribute, value])\n"
   ]
  },
  {
   "cell_type": "code",
   "execution_count": 44,
   "metadata": {},
   "outputs": [
    {
     "data": {
      "text/plain": [
       "[[{'Type': 'PredefinedPlantBuilder',\n",
       "   'Id': 2001,\n",
       "   'Attributes': {'PortfolioBuildingOffsetInSeconds': 60,\n",
       "    'Prototype': {'FuelType': 'HARD_COAL',\n",
       "     'SpecificCo2EmissionsInTperMWH': 0.354,\n",
       "     'PlannedAvailability': 1.0,\n",
       "     'UnplannedAvailabilityFactor': 0.98,\n",
       "     'OpexVarInEURperMWH': 2.0,\n",
       "     'CyclingCostInEURperMW': 0.0},\n",
       "    'Efficiency': {'Minimal': 0.4, 'Maximal': 0.4},\n",
       "    'BlockSizeInMW': 50.0,\n",
       "    'InstalledPowerInMW': 264.0}},\n",
       "  'InstalledPowerInMW'],\n",
       " ['Prototype', 'HARD_COAL'],\n",
       " ['Prototype', 0.354],\n",
       " ['Prototype', 1.0],\n",
       " ['Prototype', 0.98],\n",
       " ['Prototype', 2.0],\n",
       " ['Prototype', 0.0],\n",
       " [{'Type': 'PredefinedPlantBuilder',\n",
       "   'Id': 2003,\n",
       "   'Attributes': {'PortfolioBuildingOffsetInSeconds': 60,\n",
       "    'Prototype': {'FuelType': 'NATURAL_GAS',\n",
       "     'SpecificCo2EmissionsInTperMWH': 0.201,\n",
       "     'PlannedAvailability': 1.0,\n",
       "     'UnplannedAvailabilityFactor': 0.97,\n",
       "     'OpexVarInEURperMWH': 1.2,\n",
       "     'CyclingCostInEURperMW': 0},\n",
       "    'Efficiency': {'Minimal': 0.4, 'Maximal': 0.6},\n",
       "    'BlockSizeInMW': 200.0,\n",
       "    'InstalledPowerInMW': 3260.0}},\n",
       "  'InstalledPowerInMW'],\n",
       " ['Prototype', 'NATURAL_GAS'],\n",
       " ['Prototype', 0.201],\n",
       " ['Prototype', 1.0],\n",
       " ['Prototype', 0.97],\n",
       " ['Prototype', 1.2],\n",
       " ['Prototype', 0],\n",
       " [{'Type': 'PredefinedPlantBuilder',\n",
       "   'Id': 2002,\n",
       "   'Attributes': {'PortfolioBuildingOffsetInSeconds': 60,\n",
       "    'Prototype': {'FuelType': 'NATURAL_GAS',\n",
       "     'SpecificCo2EmissionsInTperMWH': 0.201,\n",
       "     'PlannedAvailability': 1.0,\n",
       "     'UnplannedAvailabilityFactor': 0.97,\n",
       "     'OpexVarInEURperMWH': 1.2,\n",
       "     'CyclingCostInEURperMW': 0},\n",
       "    'Efficiency': {'Minimal': 0.4, 'Maximal': 0.6},\n",
       "    'BlockSizeInMW': 300.0,\n",
       "    'InstalledPowerInMW': 3260.0}},\n",
       "  'InstalledPowerInMW'],\n",
       " ['Prototype', 'NATURAL_GAS'],\n",
       " ['Prototype', 0.201],\n",
       " ['Prototype', 1.0],\n",
       " ['Prototype', 0.97],\n",
       " ['Prototype', 1.2],\n",
       " ['Prototype', 0],\n",
       " [{'Type': 'PredefinedPlantBuilder',\n",
       "   'Id': 2004,\n",
       "   'Attributes': {'PortfolioBuildingOffsetInSeconds': 60,\n",
       "    'Prototype': {'FuelType': 'NATURAL_GAS',\n",
       "     'SpecificCo2EmissionsInTperMWH': 0.201,\n",
       "     'PlannedAvailability': 1.0,\n",
       "     'UnplannedAvailabilityFactor': 0.97,\n",
       "     'OpexVarInEURperMWH': 1.2,\n",
       "     'CyclingCostInEURperMW': 0.0},\n",
       "    'Efficiency': {'Minimal': 0.3, 'Maximal': 0.4},\n",
       "    'BlockSizeInMW': 100.0,\n",
       "    'InstalledPowerInMW': 1208}},\n",
       "  'InstalledPowerInMW'],\n",
       " ['Prototype', 'NATURAL_GAS'],\n",
       " ['Prototype', 0.201],\n",
       " ['Prototype', 1.0],\n",
       " ['Prototype', 0.97],\n",
       " ['Prototype', 1.2],\n",
       " ['Prototype', 0.0],\n",
       " [{'Type': 'PredefinedPlantBuilder',\n",
       "   'Id': 2005,\n",
       "   'Attributes': {'PortfolioBuildingOffsetInSeconds': 60,\n",
       "    'Prototype': {'FuelType': 'OIL',\n",
       "     'SpecificCo2EmissionsInTperMWH': 0.264,\n",
       "     'PlannedAvailability': 1.0,\n",
       "     'UnplannedAvailabilityFactor': 0.93,\n",
       "     'OpexVarInEURperMWH': 1.2,\n",
       "     'CyclingCostInEURperMW': 0.0},\n",
       "    'Efficiency': {'Minimal': 0.35, 'Maximal': 0.35},\n",
       "    'BlockSizeInMW': 100.0,\n",
       "    'InstalledPowerInMW': 178}},\n",
       "  'InstalledPowerInMW'],\n",
       " ['Prototype', 'OIL'],\n",
       " ['Prototype', 0.264],\n",
       " ['Prototype', 1.0],\n",
       " ['Prototype', 0.93],\n",
       " ['Prototype', 1.2],\n",
       " ['Prototype', 0.0]]"
      ]
     },
     "execution_count": 44,
     "metadata": {},
     "output_type": "execute_result"
    }
   ],
   "source": [
    "rows_to_write"
   ]
  },
  {
   "cell_type": "code",
   "execution_count": 97,
   "metadata": {},
   "outputs": [],
   "source": [
    "rows_to_write = []"
   ]
  },
  {
   "cell_type": "code",
   "execution_count": 98,
   "metadata": {},
   "outputs": [
    {
     "name": "stdout",
     "output_type": "stream",
     "text": [
      "PortfolioBuildingOffsetInSeconds 60\n",
      "FuelType HARD_COAL\n",
      "SpecificCo2EmissionsInTperMWH 0.354\n",
      "PlannedAvailability 1.0\n",
      "UnplannedAvailabilityFactor 0.98\n",
      "OpexVarInEURperMWH 2.0\n",
      "CyclingCostInEURperMW 0.0\n",
      "Minimal 0.4\n",
      "Maximal 0.4\n",
      "BlockSizeInMW 50.0\n",
      "InstalledPowerInMW 264.0\n",
      "PortfolioBuildingOffsetInSeconds 60\n",
      "FuelType NATURAL_GAS\n",
      "SpecificCo2EmissionsInTperMWH 0.201\n",
      "PlannedAvailability 1.0\n",
      "UnplannedAvailabilityFactor 0.97\n",
      "OpexVarInEURperMWH 1.2\n",
      "CyclingCostInEURperMW 0\n",
      "Minimal 0.4\n",
      "Maximal 0.6\n",
      "BlockSizeInMW 200.0\n",
      "InstalledPowerInMW 3260.0\n",
      "PortfolioBuildingOffsetInSeconds 60\n",
      "FuelType NATURAL_GAS\n",
      "SpecificCo2EmissionsInTperMWH 0.201\n",
      "PlannedAvailability 1.0\n",
      "UnplannedAvailabilityFactor 0.97\n",
      "OpexVarInEURperMWH 1.2\n",
      "CyclingCostInEURperMW 0\n",
      "Minimal 0.4\n",
      "Maximal 0.6\n",
      "BlockSizeInMW 300.0\n",
      "InstalledPowerInMW 3260.0\n",
      "PortfolioBuildingOffsetInSeconds 60\n",
      "FuelType NATURAL_GAS\n",
      "SpecificCo2EmissionsInTperMWH 0.201\n",
      "PlannedAvailability 1.0\n",
      "UnplannedAvailabilityFactor 0.97\n",
      "OpexVarInEURperMWH 1.2\n",
      "CyclingCostInEURperMW 0.0\n",
      "Minimal 0.3\n",
      "Maximal 0.4\n",
      "BlockSizeInMW 100.0\n",
      "InstalledPowerInMW 1208\n",
      "PortfolioBuildingOffsetInSeconds 60\n",
      "FuelType OIL\n",
      "SpecificCo2EmissionsInTperMWH 0.264\n",
      "PlannedAvailability 1.0\n",
      "UnplannedAvailabilityFactor 0.93\n",
      "OpexVarInEURperMWH 1.2\n",
      "CyclingCostInEURperMW 0.0\n",
      "Minimal 0.35\n",
      "Maximal 0.35\n",
      "BlockSizeInMW 100.0\n",
      "InstalledPowerInMW 178\n"
     ]
    }
   ],
   "source": [
    "for agent in data['Agents']:\n",
    "    if 'Attributes' in agent:\n",
    "        if (agent['Type'] == 'PredefinedPlantBuilder'):\n",
    "            #print(\"-\"*20)\n",
    "            #print(\"Id\", agent['Id'])\n",
    "            rows_to_write.append([\"Id\", agent['Id']])\n",
    "            rows_to_write.append([\"Type\", PredefinedPlantBuilder])\n",
    "            for attribute, v in agent['Attributes'].items():\n",
    "                #print(attribute, v ,type(v))\n",
    "                if type(v) is dict:    \n",
    "                    #print(v ,\"is dict\")\n",
    "                    for k, valuep in v.items():\n",
    "                        print(k, valuep)\n",
    "                        rows_to_write.append([k, valuep])\n",
    "                else: \n",
    "                    print(attribute, v)\n",
    "                    rows_to_write.append([attribute, v])"
   ]
  },
  {
   "cell_type": "code",
   "execution_count": 99,
   "metadata": {},
   "outputs": [
    {
     "data": {
      "text/plain": [
       "[['Id', 2001],\n",
       " ['PortfolioBuildingOffsetInSeconds', 60],\n",
       " ['FuelType', 'HARD_COAL'],\n",
       " ['SpecificCo2EmissionsInTperMWH', 0.354],\n",
       " ['PlannedAvailability', 1.0],\n",
       " ['UnplannedAvailabilityFactor', 0.98],\n",
       " ['OpexVarInEURperMWH', 2.0],\n",
       " ['CyclingCostInEURperMW', 0.0],\n",
       " ['Minimal', 0.4],\n",
       " ['Maximal', 0.4],\n",
       " ['BlockSizeInMW', 50.0],\n",
       " ['InstalledPowerInMW', 264.0],\n",
       " ['Id', 2003],\n",
       " ['PortfolioBuildingOffsetInSeconds', 60],\n",
       " ['FuelType', 'NATURAL_GAS'],\n",
       " ['SpecificCo2EmissionsInTperMWH', 0.201],\n",
       " ['PlannedAvailability', 1.0],\n",
       " ['UnplannedAvailabilityFactor', 0.97],\n",
       " ['OpexVarInEURperMWH', 1.2],\n",
       " ['CyclingCostInEURperMW', 0],\n",
       " ['Minimal', 0.4],\n",
       " ['Maximal', 0.6],\n",
       " ['BlockSizeInMW', 200.0],\n",
       " ['InstalledPowerInMW', 3260.0],\n",
       " ['Id', 2002],\n",
       " ['PortfolioBuildingOffsetInSeconds', 60],\n",
       " ['FuelType', 'NATURAL_GAS'],\n",
       " ['SpecificCo2EmissionsInTperMWH', 0.201],\n",
       " ['PlannedAvailability', 1.0],\n",
       " ['UnplannedAvailabilityFactor', 0.97],\n",
       " ['OpexVarInEURperMWH', 1.2],\n",
       " ['CyclingCostInEURperMW', 0],\n",
       " ['Minimal', 0.4],\n",
       " ['Maximal', 0.6],\n",
       " ['BlockSizeInMW', 300.0],\n",
       " ['InstalledPowerInMW', 3260.0],\n",
       " ['Id', 2004],\n",
       " ['PortfolioBuildingOffsetInSeconds', 60],\n",
       " ['FuelType', 'NATURAL_GAS'],\n",
       " ['SpecificCo2EmissionsInTperMWH', 0.201],\n",
       " ['PlannedAvailability', 1.0],\n",
       " ['UnplannedAvailabilityFactor', 0.97],\n",
       " ['OpexVarInEURperMWH', 1.2],\n",
       " ['CyclingCostInEURperMW', 0.0],\n",
       " ['Minimal', 0.3],\n",
       " ['Maximal', 0.4],\n",
       " ['BlockSizeInMW', 100.0],\n",
       " ['InstalledPowerInMW', 1208],\n",
       " ['Id', 2005],\n",
       " ['PortfolioBuildingOffsetInSeconds', 60],\n",
       " ['FuelType', 'OIL'],\n",
       " ['SpecificCo2EmissionsInTperMWH', 0.264],\n",
       " ['PlannedAvailability', 1.0],\n",
       " ['UnplannedAvailabilityFactor', 0.93],\n",
       " ['OpexVarInEURperMWH', 1.2],\n",
       " ['CyclingCostInEURperMW', 0.0],\n",
       " ['Minimal', 0.35],\n",
       " ['Maximal', 0.35],\n",
       " ['BlockSizeInMW', 100.0],\n",
       " ['InstalledPowerInMW', 178]]"
      ]
     },
     "execution_count": 99,
     "metadata": {},
     "output_type": "execute_result"
    }
   ],
   "source": [
    "rows_to_write"
   ]
  },
  {
   "cell_type": "code",
   "execution_count": null,
   "metadata": {},
   "outputs": [],
   "source": []
  }
 ],
 "metadata": {
  "interpreter": {
   "hash": "b0a939c12db56a1d71acd65585c5d8c173ac86b8b65230d7be822628ba88e28a"
  },
  "kernelspec": {
   "display_name": "Python 3 (ipykernel)",
   "language": "python",
   "name": "python3"
  },
  "language_info": {
   "codemirror_mode": {
    "name": "ipython",
    "version": 3
   },
   "file_extension": ".py",
   "mimetype": "text/x-python",
   "name": "python",
   "nbconvert_exporter": "python",
   "pygments_lexer": "ipython3",
   "version": "3.7.9"
  }
 },
 "nbformat": 4,
 "nbformat_minor": 1
}
