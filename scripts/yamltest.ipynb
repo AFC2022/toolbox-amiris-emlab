{
 "cells": [
  {
   "cell_type": "code",
   "execution_count": 1,
   "metadata": {},
   "outputs": [],
   "source": [
    "import yaml \n",
    "import sys\n",
    "scenario = \"C:\\\\Users\\\\isanchezjimene\\\\Documents\\\\TraderesCode\\\\toolbox-amiris-emlab\\\\amiris\\\\input\\\\Austria2019\\\\scenario.yaml\""
   ]
  },
  {
   "cell_type": "code",
   "execution_count": 4,
   "metadata": {},
   "outputs": [],
   "source": [
    "with open(scenario, \"r\") as stream:\n",
    "    try:\n",
    "        #yaml=YAML(typ='safe')   # default, if not specfied, is 'rt' (round-trip)\n",
    "        data = yaml.load(stream, Loader=yaml.Loader)\n",
    "    except ValueError:\n",
    "        print(\"Oops!  That was no valid number.  Try again...\")"
   ]
  },
  {
   "cell_type": "code",
   "execution_count": 5,
   "metadata": {},
   "outputs": [
    {
     "name": "stdout",
     "output_type": "stream",
     "text": [
      "{'Schema': 'include \"schema.yaml\"', 'Variables': [60], 'GeneralProperties': {'RunId': 1, 'Simulation': {'StartTime': '2018-12-31_23:58:00', 'StopTime': '2019-12-31_23:58:00', 'RandomSeed': 1}, 'Output': {'Interval': 100, 'Process': 0}}, 'Agents': [{'Type': 'EnergyExchange', 'Id': 1, 'Attributes': {'DistributionMethod': 'SAME_SHARES', 'GateClosureInfoOffsetInSeconds': 11}}, {'Type': 'SystemOperatorTrader', 'Id': 2}, {'Type': 'CarbonMarket', 'Id': 3, 'Attributes': {'OperationMode': 'FIXED', 'Co2Prices': './timeseries/co2_price.csv'}}, {'Type': 'FuelsMarket', 'Id': 4, 'Attributes': {'FuelPrices': [{'FuelType': 'OIL', 'Price': 65.0, 'ConversionFactor': 0.6141751628}, {'FuelType': 'HARD_COAL', 'Price': 5.0, 'ConversionFactor': 1.0}, {'FuelType': 'NATURAL_GAS', 'Price': './timeseries/gas_price.csv', 'ConversionFactor': 1.0}]}}, {'Type': 'DemandTrader', 'Id': 100, 'Attributes': {'Loads': [{'ValueOfLostLoad': 3000.0, 'DemandSeries': './timeseries/demand_with_ImportsExports.csv'}]}}, {'Type': 'MeritOrderForecaster', 'Id': 6, 'Attributes': {'DistributionMethod': 'SAME_SHARES', 'ForecastPeriodInHours': 168, 'ForecastRequestOffsetInSeconds': 27}}, {'Type': 'StorageTrader', 'Id': 7, 'Attributes': {'ForecastRequestOffsetInSeconds': 22, 'Device': {'EnergyToPowerRatio': 19.5, 'SelfDischargeRatePerHour': 0.0, 'ChargingEfficiency': 0.9, 'DischargingEfficiency': 0.9, 'InitialEnergyLevelInMWH': 15000, 'PowerInMW': 3400.0}, 'Strategy': {'StrategistType': 'SINGLE_AGENT_MIN_SYSTEM_COST', 'ForecastPeriodInHours': 168, 'ScheduleDurationInHours': 24, 'SingleAgent': {'PurchaseLeviesAndTaxesInEURperMWH': 0.0, 'ModelledChargingSteps': 50}}}}, {'Type': 'NoSupportTrader', 'Id': 12, 'Attributes': {'ShareOfRevenues': 0.0}}, {'Type': 'SystemOperatorTrader', 'Id': 13}, {'Type': 'SupportPolicy', 'Id': 90, 'Attributes': {'SetSupportData': [{'Set': 'PVRooftop', 'FIT': {'TsFit': 76.7, 'SuspensionVolumeShare': 0.9}}, {'Set': 'WindOn', 'FIT': {'TsFit': 81.2, 'SuspensionVolumeShare': 0.9}}]}}, {'Type': 'ConventionalPlantOperator', 'Id': 501}, {'Type': 'PredefinedPlantBuilder', 'Id': 2001, 'Attributes': {'PortfolioBuildingOffsetInSeconds': 60, 'Prototype': {'FuelType': 'HARD_COAL', 'SpecificCo2EmissionsInTperMWH': 0.354, 'PlannedAvailability': 1.0, 'UnplannedAvailabilityFactor': 0.98, 'OpexVarInEURperMWH': 2.0, 'CyclingCostInEURperMW': 0.0}, 'Efficiency': {'Minimal': 0.4, 'Maximal': 0.4}, 'BlockSizeInMW': 50.0, 'InstalledPowerInMW': 264.0}}, {'Type': 'ConventionalTrader', 'Id': 1001, 'Attributes': {'minMarkup': -15.0, 'maxMarkup': 0.0}}, {'Type': 'ConventionalPlantOperator', 'Id': 503}, {'Type': 'PredefinedPlantBuilder', 'Id': 2003, 'Attributes': {'PortfolioBuildingOffsetInSeconds': 60, 'Prototype': {'FuelType': 'NATURAL_GAS', 'SpecificCo2EmissionsInTperMWH': 0.201, 'PlannedAvailability': 1.0, 'UnplannedAvailabilityFactor': 0.97, 'OpexVarInEURperMWH': 1.2, 'CyclingCostInEURperMW': 0}, 'Efficiency': {'Minimal': 0.4, 'Maximal': 0.6}, 'BlockSizeInMW': 200.0, 'InstalledPowerInMW': 3260.0}}, {'Type': 'ConventionalTrader', 'Id': 1003, 'Attributes': {'minMarkup': -5.0, 'maxMarkup': 15.0}}, {'Type': 'ConventionalPlantOperator', 'Id': 504}, {'Type': 'PredefinedPlantBuilder', 'Id': 2004, 'Attributes': {'PortfolioBuildingOffsetInSeconds': 60, 'Prototype': {'FuelType': 'NATURAL_GAS', 'SpecificCo2EmissionsInTperMWH': 0.201, 'PlannedAvailability': 1.0, 'UnplannedAvailabilityFactor': 0.97, 'OpexVarInEURperMWH': 1.2, 'CyclingCostInEURperMW': 0.0}, 'Efficiency': {'Minimal': 0.3, 'Maximal': 0.4}, 'BlockSizeInMW': 100.0, 'InstalledPowerInMW': 1208}}, {'Type': 'ConventionalTrader', 'Id': 1004, 'Attributes': {'minMarkup': 0.0, 'maxMarkup': 120.0}}, {'Type': 'ConventionalPlantOperator', 'Id': 505}, {'Type': 'PredefinedPlantBuilder', 'Id': 2005, 'Attributes': {'PortfolioBuildingOffsetInSeconds': 60, 'Prototype': {'FuelType': 'OIL', 'SpecificCo2EmissionsInTperMWH': 0.264, 'PlannedAvailability': 1.0, 'UnplannedAvailabilityFactor': 0.93, 'OpexVarInEURperMWH': 1.2, 'CyclingCostInEURperMW': 0.0}, 'Efficiency': {'Minimal': 0.35, 'Maximal': 0.35}, 'BlockSizeInMW': 100.0, 'InstalledPowerInMW': 178}}, {'Type': 'ConventionalTrader', 'Id': 1005, 'Attributes': {'minMarkup': 0.0, 'maxMarkup': 120.0}}, {'Type': 'VariableRenewableOperator', 'Id': 10, 'Attributes': {'Set': 'PVRooftop', 'EnergyCarrier': 'PV', 'SupportInstrument': 'FIT', 'InstalledPowerInMW': 1193, 'OpexVarInEURperMWH': 0.0, 'YieldProfile': './timeseries/solar_profile.csv'}}, {'Type': 'VariableRenewableOperator', 'Id': 20, 'Attributes': {'Set': 'WindOn', 'SupportInstrument': 'FIT', 'EnergyCarrier': 'WindOn', 'InstalledPowerInMW': 3035, 'OpexVarInEURperMWH': 0.0, 'YieldProfile': './timeseries/wind_profile.csv'}}, {'Type': 'VariableRenewableOperator', 'Id': 50, 'Attributes': {'EnergyCarrier': 'RunOfRiver', 'InstalledPowerInMW': 7998, 'OpexVarInEURperMWH': 0.0, 'YieldProfile': './timeseries/runofriver_profile.csv'}}, {'Type': 'VariableRenewableOperator', 'Id': 51, 'Attributes': {'EnergyCarrier': 'RunOfRiver', 'InstalledPowerInMW': 2000, 'OpexVarInEURperMWH': 0.0, 'YieldProfile': './timeseries/hydroreservoir_combined_profile.csv'}}, {'Type': 'VariableRenewableOperator', 'Id': 52, 'Attributes': {'EnergyCarrier': 'Other', 'InstalledPowerInMW': 500, 'OpexVarInEURperMWH': 0.0, 'YieldProfile': './timeseries/biomass_profile.csv'}}, {'Type': 'VariableRenewableOperator', 'Id': 53, 'Attributes': {'EnergyCarrier': 'Other', 'InstalledPowerInMW': 122, 'OpexVarInEURperMWH': 1.2, 'YieldProfile': 1}}], 'Contracts': 'include [\"contracts/*.yaml\", \"Contracts\"]'}\n"
     ]
    }
   ],
   "source": [
    "print(data)"
   ]
  },
  {
   "cell_type": "code",
   "execution_count": 6,
   "metadata": {},
   "outputs": [
    {
     "ename": "AttributeError",
     "evalue": "'dict' object has no attribute 'insert'",
     "output_type": "error",
     "traceback": [
      "\u001b[1;31m---------------------------------------------------------------------------\u001b[0m",
      "\u001b[1;31mAttributeError\u001b[0m                            Traceback (most recent call last)",
      "\u001b[1;32mC:\\Users\\ISANCH~1\\AppData\\Local\\Temp/ipykernel_31612/3400573596.py\u001b[0m in \u001b[0;36m<module>\u001b[1;34m\u001b[0m\n\u001b[1;32m----> 1\u001b[1;33m \u001b[0mdata\u001b[0m\u001b[1;33m.\u001b[0m\u001b[0minsert\u001b[0m\u001b[1;33m(\u001b[0m\u001b[1;36m1\u001b[0m\u001b[1;33m,\u001b[0m \u001b[1;34m'last name'\u001b[0m\u001b[1;33m,\u001b[0m \u001b[1;34m'Vandelay'\u001b[0m\u001b[1;33m,\u001b[0m \u001b[0mcomment\u001b[0m\u001b[1;33m=\u001b[0m\u001b[1;34m\"new key\"\u001b[0m\u001b[1;33m)\u001b[0m\u001b[1;33m\u001b[0m\u001b[1;33m\u001b[0m\u001b[0m\n\u001b[0m\u001b[0;32m      2\u001b[0m \u001b[0myaml\u001b[0m\u001b[1;33m.\u001b[0m\u001b[0mdump\u001b[0m\u001b[1;33m(\u001b[0m\u001b[0mdata\u001b[0m\u001b[1;33m,\u001b[0m \u001b[0msys\u001b[0m\u001b[1;33m.\u001b[0m\u001b[0mstdout\u001b[0m\u001b[1;33m)\u001b[0m\u001b[1;33m\u001b[0m\u001b[1;33m\u001b[0m\u001b[0m\n",
      "\u001b[1;31mAttributeError\u001b[0m: 'dict' object has no attribute 'insert'"
     ]
    }
   ],
   "source": [
    "data.insert(1, 'last name', 'Vandelay', comment=\"new key\")\n",
    "yaml.dump(data, sys.stdout)"
   ]
  },
  {
   "cell_type": "code",
   "execution_count": null,
   "metadata": {},
   "outputs": [],
   "source": []
  }
 ],
 "metadata": {
  "interpreter": {
   "hash": "b0a939c12db56a1d71acd65585c5d8c173ac86b8b65230d7be822628ba88e28a"
  },
  "kernelspec": {
   "display_name": "Python 3 (ipykernel)",
   "language": "python",
   "name": "python3"
  },
  "language_info": {
   "codemirror_mode": {
    "name": "ipython",
    "version": 3
   },
   "file_extension": ".py",
   "mimetype": "text/x-python",
   "name": "python",
   "nbconvert_exporter": "python",
   "pygments_lexer": "ipython3",
   "version": "3.7.9"
  }
 },
 "nbformat": 4,
 "nbformat_minor": 1
}
