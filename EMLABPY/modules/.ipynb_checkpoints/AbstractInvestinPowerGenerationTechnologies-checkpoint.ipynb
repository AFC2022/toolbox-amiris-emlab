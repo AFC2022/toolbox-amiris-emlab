{
 "cells": [
  {
   "cell_type": "code",
   "execution_count": null,
   "metadata": {
    "collapsed": true
   },
   "outputs": [],
   "source": [
    "discountedCapitalCosts = calculateDiscountedCapitalCosts();\n",
    "discountedOperatingCost = calculateDiscountedOperatingCost();\n",
    "discountedOperatingProfit = calculateDiscountedOperatingProfit();\n",
    "projectValue = calculateProjectValue();\n",
    "projectCost = calculateProjectCost();\n",
    "\n",
    "discountedCapitalCosts = calculateDiscountedCashFlowForPlant(\n",
    "                    technology.getDepreciationTime(), plant.getActualInvestedCapital(), 0)\n",
    "\n",
    "calculateDiscountedOperatingProfit\n",
    "operatingProfit = expectedGrossProfit - fixedOMCost\n",
    "discountedOperatingProfit = calculateDiscountedCashFlowForPlant(\n",
    "                    technology.getDepreciationTime(), 0, operatingProfit)"
   ]
  },
  {
   "cell_type": "code",
   "execution_count": null,
   "metadata": {},
   "outputs": [],
   "source": []
  }
 ],
 "metadata": {
  "kernelspec": {
   "display_name": "Python 3 (ipykernel)",
   "language": "python",
   "name": "python3"
  },
  "language_info": {
   "codemirror_mode": {
    "name": "ipython",
    "version": 3
   },
   "file_extension": ".py",
   "mimetype": "text/x-python",
   "name": "python",
   "nbconvert_exporter": "python",
   "pygments_lexer": "ipython3",
   "version": "3.7.9"
  }
 },
 "nbformat": 4,
 "nbformat_minor": 1
}
