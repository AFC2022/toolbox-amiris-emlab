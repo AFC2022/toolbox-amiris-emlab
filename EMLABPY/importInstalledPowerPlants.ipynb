{
 "cells": [
  {
   "cell_type": "code",
   "execution_count": 3,
   "metadata": {},
   "outputs": [
    {
     "name": "stderr",
     "output_type": "stream",
     "text": [
      "C:\\Programs\\Anaconda3\\envs\\spinetoolbox\\lib\\site-packages\\openpyxl\\worksheet\\_reader.py:312: UserWarning: Data Validation extension is not supported and will be removed\n",
      "  warn(msg)\n"
     ]
    }
   ],
   "source": [
    "import pandas as pd\n",
    "import sys\n",
    "import numpy as np\n",
    "import  matplotlib.pyplot as plt\n",
    "Plants = pd.read_excel(sys.path[0] +\"/../data/powerplantsGermany/Kraftwerksliste_2020_1.xlsx\",\n",
    "                           sheet_name=\"Gesamtkraftwerksliste BNetzA\",\n",
    "                           usecols=\"A:X\",\n",
    "                           skiprows = \"1:10\"\n",
    "                           #index_col=\"Kraftwerksnummer Bundesnetzagentur\"# , parse_dates=\"Commisionedyear\"\n",
    "                           )"
   ]
  },
  {
   "cell_type": "code",
   "execution_count": 4,
   "metadata": {
    "pycharm": {
     "name": "#%%\n"
    }
   },
   "outputs": [
    {
     "name": "stdout",
     "output_type": "stream",
     "text": [
      "  Kraftwerksnummer                              Unternehmen Kraftwerksname  \\\n",
      "0          BNA0001                                      NaN            NaN   \n",
      "1          BNA0002                  ecoJoule construct GmbH            NaN   \n",
      "2          BNA0003  Sendenhorster Windenergie GmbH & Co. KG            NaN   \n",
      "3          BNA0004        Windpark Ahlerstedt GmbH & Co. KG            NaN   \n",
      "4          BNA0005            Lausitz Energie Kraftwerke AG    Ahrensfelde   \n",
      "\n",
      "  PLZ\\n(Standort Kraftwerk) Ort\\n(Standort Kraftwerk)  \\\n",
      "0                     52074                    Aachen   \n",
      "1                     28832                     Achim   \n",
      "2                     59229                     Ahlen   \n",
      "3                     21702                Ahlerstedt   \n",
      "4                     16356               Ahrensfelde   \n",
      "\n",
      "  Straße und Hausnummer (Standort Kraftwerk)           Bundesland Blockname  \\\n",
      "0                                        NaN  Nordrhein-Westfalen       NaN   \n",
      "1                                        NaN        Niedersachsen       NaN   \n",
      "2                                        NaN  Nordrhein-Westfalen       NaN   \n",
      "3                                        NaN        Niedersachsen       NaN   \n",
      "4                           Lindenberger Weg          Brandenburg      GT A   \n",
      "\n",
      "  Datum der Aufnahme der kommerziellen Stromeinspeisung der Erzeugungseinheit [Datum/jahr]  \\\n",
      "0                                               1997                                         \n",
      "1                                               2002                                         \n",
      "2                                               2003                                         \n",
      "3                                               1999                                         \n",
      "4                                               1990                                         \n",
      "\n",
      "  Datum der Aufnahme der kommerziellen Stromeinspeisung der Erzeugungseinheit [Datum/jahr].1  \\\n",
      "0                                               1997                                           \n",
      "1                                               2002                                           \n",
      "2                                               2003                                           \n",
      "3                                               1999                                           \n",
      "4                                               1990                                           \n",
      "\n",
      "   ...                          Fuel   EEG Wärmeauskopplung (KWK)\\n(ja/nein)  \\\n",
      "0  ...  Windenergie (Onshore-Anlage)    Ja                               NaN   \n",
      "1  ...  Windenergie (Onshore-Anlage)    Ja                               NaN   \n",
      "2  ...  Windenergie (Onshore-Anlage)    Ja                               NaN   \n",
      "3  ...  Windenergie (Onshore-Anlage)    Ja                               NaN   \n",
      "4  ...                        Erdgas  Nein                              Nein   \n",
      "\n",
      "  Power  \\\n",
      "0  15.0   \n",
      "1  13.3   \n",
      "2  15.0   \n",
      "3  39.6   \n",
      "4  37.5   \n",
      "\n",
      "  Bezeichnung Verknüpfungspunkt (Schaltanlage) mit dem Stromnetz der Allgemeinen Versorgung gemäß Netzbetreiber  \\\n",
      "0                                                NaN                                                              \n",
      "1                                                NaN                                                              \n",
      "2                                                NaN                                                              \n",
      "3                                                NaN                                                              \n",
      "4                                            Malchow                                                              \n",
      "\n",
      "  Netz- oder Umspannebene des Anschlusses     Name Stromnetzbetreiber  \\\n",
      "0                     Mittelspannung (MS)              INFRAWEST GmbH   \n",
      "1     USp. Hoch- / Mittelspannung (HS/MS)               EWE NETZ GmbH   \n",
      "2                     Mittelspannung (MS)  Stadtwerke Ahlen Netz GmbH   \n",
      "3     USp. Hoch- / Mittelspannung (HS/MS)               EWE NETZ GmbH   \n",
      "4                       Hochspannung (HS)   50Hertz Transmission GmbH   \n",
      "\n",
      "                   Status Commisionedyear Technology  \n",
      "0              in Betrieb            1997        NaN  \n",
      "1              in Betrieb            2002        NaN  \n",
      "2              in Betrieb            2003        NaN  \n",
      "3              in Betrieb            1999        NaN  \n",
      "4  Vorläufig Stillgelegt             1990        NaN  \n",
      "\n",
      "[5 rows x 24 columns]\n"
     ]
    }
   ],
   "source": [
    "print(Plants.head())"
   ]
  },
  {
   "cell_type": "code",
   "execution_count": 16,
   "metadata": {},
   "outputs": [],
   "source": [
    "table = Plants[Plants[\"Status\"]==\"in Betrieb\"].groupby('Fuel')['Commisionedyear'].count()"
   ]
  },
  {
   "cell_type": "code",
   "execution_count": 17,
   "outputs": [
    {
     "data": {
      "text/plain": "Fuel\nAbfall                                            82\nBiomasse                                          73\nBraunkohle                                        51\nDeponiegas                                        17\nErdgas                                           243\nGeothermie                                        16\nGrubengas                                         18\nKernenergie                                        6\nKlärgas                                           17\nLaufwasser                                       102\nMehrere Energieträger\\n(nicht erneuerbar)          4\nMineralölprodukte                                 40\nPumpspeicher                                      66\nSolare Strahlungsenergie                         161\nSonstige Energieträger\\n(nicht erneuerbar)        47\nSpeicherwasser (ohne Pumpspeicher)                 8\nSteinkohle                                        66\nUnbekannter Energieträger\\n(nicht erneuerbar)      1\nWindenergie (Offshore-Anlage)                     20\nWindenergie (Onshore-Anlage)                     889\nName: Commisionedyear, dtype: int64"
     },
     "execution_count": 17,
     "metadata": {},
     "output_type": "execute_result"
    }
   ],
   "source": [
    "table\n"
   ],
   "metadata": {
    "collapsed": false,
    "pycharm": {
     "name": "#%%\n"
    }
   }
  },
  {
   "cell_type": "code",
   "execution_count": 6,
   "outputs": [],
   "source": [],
   "metadata": {
    "collapsed": false,
    "pycharm": {
     "name": "#%%\n"
    }
   }
  }
 ],
 "metadata": {
  "kernelspec": {
   "name": "hello",
   "language": "python",
   "display_name": "hello_spinetoolbox"
  },
  "language_info": {
   "codemirror_mode": {
    "name": "ipython",
    "version": 3
   },
   "file_extension": ".py",
   "mimetype": "text/x-python",
   "name": "python",
   "nbconvert_exporter": "python",
   "pygments_lexer": "ipython3",
   "version": "3.7.9"
  }
 },
 "nbformat": 4,
 "nbformat_minor": 1
}